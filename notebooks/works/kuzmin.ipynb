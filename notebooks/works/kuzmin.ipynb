{
 "cells": [
  {
   "cell_type": "markdown",
   "metadata": {},
   "source": [
    "## Kuzmin disk\n",
    "The Kuzmin disk density profile is\n",
    "\n",
    "$$\n",
    "\\rho \\left( R \\right) = \\Sigma(r, \\theta)\\delta(z)\n",
    "$$\n",
    "\n",
    "With\n",
    "\n",
    "$$\n",
    "\\Sigma(r, \\theta) = \\dfrac{M_\\mathrm{tot}}{2\\pi}\\dfrac{a}{(r^2+a^2)^{3/2}}\n",
    "$$\n",
    "\n",
    "$\\newline$\n",
    "\n",
    "To initialize the Plummer sphere we need to set the correct distributions for our particles cartesian coordinates. To do so we first need to find the cylindrical coordinates and then project them onto the cartesian plane. \n",
    "\n",
    "The mass can be found by simple integration over the volume, which yields\n",
    "\n",
    "$$\n",
    "    M(r, \\theta, z) = \\dfrac{M_\\text{tot}}{2\\pi} \\int_0^{\\theta}d\\theta \\int_{-\\infty}^{z} \\delta(z)\\ dz \\int_0^{r}\\dfrac{a}{(r^2+a^2)^{3/2}}r\\ dr\n",
    "$$\n",
    "<br>\n",
    "\n",
    "$$\n",
    "    M(r, \\theta, z) = \\dfrac{M_\\text{tot}}{2\\pi} \\theta\\  \\Theta_\\mathrm{HS}(z)\\ \\left(1- \\dfrac{a}{\\sqrt{a^2+r^2}}\\right)\n",
    "$$\n",
    "\n",
    "$\\newline$\n",
    "The heaviside theta function is 0 everywhere except in z=0, therefore\n",
    "\n",
    "<br>\n",
    "\n",
    "$$\n",
    "    M(r, \\theta, z) = \n",
    "    \\begin{cases}\n",
    "    0 && z\\neq 0 \\\\\n",
    "    M_\\text{tot} \\dfrac{\\theta}{2\\pi} \\ \\left(1- \\dfrac{a}{\\sqrt{a^2+r^2}}\\right) && z = 0\n",
    "    \\end{cases}\n",
    "$$\n",
    "<br>\n",
    "\n",
    "Inverting the relation for $\\xi = M(r)/M_{tot}$ we obtain the cdfs, while we already had the pdfs (integrands in the mass calculation)\n",
    "\n",
    "<br>\n",
    "\n",
    "$$\n",
    "\\begin{cases}\n",
    "    p(r) = \\dfrac{ra}{(r^2+a^2)^{3/2}} \\\\\n",
    "    p(\\theta) = {1}/{2\\pi} \\\\\n",
    "    p(z) = \\delta(z)\n",
    "\\end{cases}\n",
    "$$\n",
    "\n",
    "<br>\n",
    "\n",
    "$$\n",
    "\\begin{cases}\n",
    "    P(r) = 1 - \\dfrac{a}{\\sqrt{a^2+r^2}} \\\\\n",
    "    P(\\theta) = {\\theta}/{2\\pi} \\\\\n",
    "    P(z) = \\Theta_\\mathrm{HS}(z)\n",
    "\\end{cases}\n",
    "$$\n",
    "\n",
    "And their inverse are\n",
    "\n",
    "$$\n",
    "\\begin{cases}\n",
    "    r(P) = a \\sqrt{\\dfrac{1}{(P-1)^2} - 1} \\\\\n",
    "    \\theta(P) = 2\\pi P\\\\\n",
    "    z(P) = 0\n",
    "\\end{cases}\n",
    "$$\n",
    "\n",
    "Now we can initialize the disk"
   ]
  },
  {
   "cell_type": "code",
   "execution_count": null,
   "metadata": {},
   "outputs": [],
   "source": [
    "import numpy as np\n",
    "import os\n",
    "import matplotlib.pyplot as plt\n",
    "from matplotlib import animation\n",
    "from tqdm.notebook import tqdm\n",
    "from IPython.display import HTML\n",
    "\n",
    "plt.style.use('../../sim.mplstyle')\n",
    "%config InlineBackend.figure_format = 'retina'"
   ]
  },
  {
   "cell_type": "code",
   "execution_count": null,
   "metadata": {},
   "outputs": [],
   "source": [
    "import sys\n",
    "sys.path.insert(1, '../')\n",
    "from gdsam import initial_data"
   ]
  },
  {
   "cell_type": "code",
   "execution_count": null,
   "metadata": {},
   "outputs": [],
   "source": [
    "disk = initial_data()\n",
    "N = int(1e4)\n",
    "a = 10"
   ]
  },
  {
   "cell_type": "code",
   "execution_count": null,
   "metadata": {},
   "outputs": [],
   "source": [
    "u_r = lambda P : a*np.sqrt(1/(P-1)**2-1)\n",
    "u_theta = lambda P : 2*np.pi*P\n",
    "u_z = lambda P: 0*P"
   ]
  },
  {
   "cell_type": "markdown",
   "metadata": {},
   "source": [
    "#### Note\n",
    "While inverse sampling is the faster method, using rejection sampling is actually better in this instance. In fact this way we avoid getting outliers "
   ]
  },
  {
   "cell_type": "code",
   "execution_count": null,
   "metadata": {},
   "outputs": [],
   "source": [
    "disk.custom_distribution_cyl(N, 1, u_r, u_theta, u_z)"
   ]
  },
  {
   "cell_type": "code",
   "execution_count": null,
   "metadata": {},
   "outputs": [],
   "source": [
    "np.max(disk.r)"
   ]
  },
  {
   "cell_type": "code",
   "execution_count": null,
   "metadata": {
    "metadata": {}
   },
   "outputs": [],
   "source": [
    "fig = plt.figure()\n",
    "ax = fig.add_subplot(projection='3d')\n",
    "disk.positions_3d(ax, l=40, s=.1, a=.3)\n",
    "\n",
    "\n",
    "plt.show()"
   ]
  },
  {
   "cell_type": "code",
   "execution_count": null,
   "metadata": {},
   "outputs": [],
   "source": [
    "disk.show_dist_cyl(b=30)"
   ]
  },
  {
   "cell_type": "code",
   "execution_count": null,
   "metadata": {
    "scrolled": true
   },
   "outputs": [],
   "source": [
    "_, axs = disk.projections(l=100, s=.5, a=.3)\n",
    "\n",
    "plt.show()"
   ]
  },
  {
   "cell_type": "code",
   "execution_count": null,
   "metadata": {},
   "outputs": [],
   "source": [
    "# we are still in internal units\n",
    "G = 1\n",
    "M = np.sum(disk.m)\n",
    "R = disk.r\n",
    "\n",
    "Psi = G * M /(R**2 + a**2)**(1/2)"
   ]
  },
  {
   "cell_type": "markdown",
   "metadata": {},
   "source": [
    "---"
   ]
  },
  {
   "cell_type": "code",
   "execution_count": null,
   "metadata": {
    "metadata": {}
   },
   "outputs": [],
   "source": [
    "home = '../../'\n",
    "input = home + f'data/inputs/kuzmin{N}.txt' \n",
    "output = home + f'data/outputs/kuzmin{N}.txt'\n",
    "log = f'../../data/outputs/kuzmin{N}_log.txt'"
   ]
  },
  {
   "cell_type": "code",
   "execution_count": null,
   "metadata": {
    "metadata": {}
   },
   "outputs": [],
   "source": [
    "disk.initialize_velocities()"
   ]
  },
  {
   "cell_type": "code",
   "execution_count": null,
   "metadata": {
    "metadata": {}
   },
   "outputs": [],
   "source": [
    "open(input, 'w').close()  #clearing input file\n",
    "open(output, 'w').close() #clearing output file\n",
    "open(log, 'w').close()    #clearing log file\n",
    "disk.write_tree(input)"
   ]
  },
  {
   "cell_type": "markdown",
   "metadata": {},
   "source": [
    "Now we calculate the softening and accuracy parameters, we need to use the volume of the disk"
   ]
  },
  {
   "cell_type": "code",
   "execution_count": null,
   "metadata": {
    "metadata": {}
   },
   "outputs": [],
   "source": [
    "V = 1*np.pi*a**2 # i take a cylinder of height 1 and area=disk\n",
    "epsilon = 1/100 * (V/int(float(N)))**(1/3)"
   ]
  },
  {
   "cell_type": "code",
   "execution_count": null,
   "metadata": {
    "metadata": {}
   },
   "outputs": [],
   "source": [
    "T_sim = 400\n",
    "dt = 1\n",
    "theta = 0.1"
   ]
  },
  {
   "cell_type": "code",
   "execution_count": null,
   "metadata": {
    "metadata": {}
   },
   "outputs": [],
   "source": [
    "print(f'T_sim = {T_sim:.1f} \\t epsilon = {epsilon:.2e} \\t dt = {dt:.2f}')"
   ]
  },
  {
   "cell_type": "code",
   "execution_count": null,
   "metadata": {
    "metadata": {}
   },
   "outputs": [],
   "source": [
    "os.system(home + f'treecode/tree/treecode in={input} out={output} eps={epsilon} tstop={T_sim} dtout={dt}>{log}')"
   ]
  },
  {
   "cell_type": "code",
   "execution_count": null,
   "metadata": {
    "metadata": {}
   },
   "outputs": [],
   "source": [
    "import gdsam\n",
    "\n",
    "pl = gdsam.plotter()\n",
    "pl.get_data_tree(output)"
   ]
  },
  {
   "cell_type": "code",
   "execution_count": null,
   "metadata": {
    "metadata": {}
   },
   "outputs": [],
   "source": [
    "i = 250\n",
    "pl.projections_heatmap(num=i, x_min =-20, y_min =-20, z_min =-20, l=40);"
   ]
  },
  {
   "cell_type": "code",
   "execution_count": null,
<<<<<<< HEAD
   "metadata": {},
=======
   "metadata": {
    "scrolled": true
   },
>>>>>>> 2d87212 (c)
   "outputs": [],
   "source": [
    "pl.preview_animation(l=40)"
   ]
  }
 ],
 "metadata": {
  "kernelspec": {
   "display_name": "Python 3 (ipykernel)",
   "language": "python",
   "name": "python3"
  },
  "language_info": {
   "codemirror_mode": {
    "name": "ipython",
    "version": 3
   },
   "file_extension": ".py",
   "mimetype": "text/x-python",
   "name": "python",
   "nbconvert_exporter": "python",
   "pygments_lexer": "ipython3",
   "version": "3.11.5"
  }
 },
 "nbformat": 4,
 "nbformat_minor": 2
}
