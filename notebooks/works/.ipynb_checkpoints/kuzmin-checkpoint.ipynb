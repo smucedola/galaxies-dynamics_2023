{
 "cells": [
  {
   "cell_type": "markdown",
   "metadata": {},
   "source": [
    "## Kuzmin disk\n",
    "The Kuzmin disk density profile is\n",
    "\n",
    "$$\n",
    "\\rho \\left( R \\right) = \\Sigma(r, \\theta)\\delta(z)\n",
    "$$\n",
    "\n",
    "With\n",
    "\n",
    "$$\n",
    "\\Sigma(r, \\theta) = \\dfrac{M_\\mathrm{tot}}{2\\pi}\\dfrac{a}{(r^2+a^2)^{3/2}}\n",
    "$$\n",
    "\n",
    "$\\newline$\n",
    "\n",
    "To initialize the Plummer sphere we need to set the correct distributions for our particles cartesian coordinates. To do so we first need to find the cylindrical coordinates and then project them onto the cartesian plane. \n",
    "\n",
    "The mass can be found by simple integration over the volume, which yields\n",
    "\n",
    "$$\n",
    "    M(r, \\theta, z) = \\dfrac{M_\\text{tot}}{2\\pi} \\int_0^{\\theta}d\\theta \\int_{-\\infty}^{z} \\delta(z)\\ dz \\int_0^{r}\\dfrac{a}{(r^2+a^2)^{3/2}}r\\ dr\n",
    "$$\n",
    "<br>\n",
    "\n",
    "$$\n",
    "    M(r, \\theta, z) = \\dfrac{M_\\text{tot}}{2\\pi} \\theta\\  \\Theta_\\mathrm{HS}(z)\\ \\left(1- \\dfrac{a}{\\sqrt{a^2+r^2}}\\right)\n",
    "$$\n",
    "\n",
    "$\\newline$\n",
    "The heaviside theta function is 0 everywhere except in z=0, therefore\n",
    "\n",
    "<br>\n",
    "\n",
    "$$\n",
    "    M(r, \\theta, z) = \n",
    "    \\begin{cases}\n",
    "    0 && z\\neq 0 \\\\\n",
    "    M_\\text{tot} \\dfrac{\\theta}{2\\pi} \\ \\left(1- \\dfrac{a}{\\sqrt{a^2+r^2}}\\right) && z = 0\n",
    "    \\end{cases}\n",
    "$$\n",
    "<br>\n",
    "\n",
    "Inverting the relation for $\\xi = M(r)/M_{tot}$ we obtain the cdfs, while we already had the pdfs (integrands in the mass calculation)\n",
    "\n",
    "<br>\n",
    "\n",
    "$$\n",
    "\\begin{cases}\n",
    "    p(r) = \\dfrac{ra}{(r^2+a^2)^{3/2}} \\\\\n",
    "    p(\\theta) = {1}/{2\\pi} \\\\\n",
    "    p(z) = \\delta(z)\n",
    "\\end{cases}\n",
    "$$\n",
    "\n",
    "<br>\n",
    "\n",
    "$$\n",
    "\\begin{cases}\n",
    "    P(r) = 1 - \\dfrac{a}{\\sqrt{a^2+r^2}} \\\\\n",
    "    P(\\theta) = {\\theta}/{2\\pi} \\\\\n",
    "    P(z) = \\Theta_\\mathrm{HS}(z)\n",
    "\\end{cases}\n",
    "$$\n",
    "\n",
    "And their inverse are\n",
    "\n",
    "$$\n",
    "\\begin{cases}\n",
    "    r(P) = a \\sqrt{\\dfrac{1}{(P-1)^2} - 1} \\\\\n",
    "    \\theta(P) = 2\\pi P\\\\\n",
    "    z(P) = 0\n",
    "\\end{cases}\n",
    "$$\n",
    "\n",
    "Now we can initialize the disk"
   ]
  },
  {
   "cell_type": "code",
   "execution_count": null,
   "metadata": {},
   "outputs": [],
   "source": [
    "import numpy as np\n",
    "import os\n",
    "import matplotlib.pyplot as plt\n",
    "from matplotlib import animation\n",
    "from tqdm.notebook import tqdm\n",
    "from IPython.display import HTML\n",
    "\n",
    "plt.style.use('../../sim.mplstyle')\n",
    "%config InlineBackend.figure_format = 'retina'"
   ]
  },
  {
   "cell_type": "code",
   "execution_count": null,
   "metadata": {},
   "outputs": [],
   "source": [
    "import sys\n",
    "sys.path.insert(1, '../')\n",
    "from gdsam import initial_data"
   ]
  },
  {
   "cell_type": "code",
   "execution_count": null,
   "metadata": {},
   "outputs": [],
   "source": [
    "disk = initial_data()\n",
    "N = int(1e4)\n",
    "a = 10"
   ]
  },
  {
   "cell_type": "code",
   "execution_count": null,
   "metadata": {},
   "outputs": [],
   "source": [
    "u_r = lambda P : a*np.sqrt(1/(P-1)**2-1)\n",
    "u_theta = lambda P : 2*np.pi*P\n",
    "u_z = lambda P: 0*P"
   ]
  },
  {
   "cell_type": "markdown",
   "metadata": {},
   "source": [
    "#### Note\n",
    "While inverse sampling is the faster method, using rejection sampling is actually better in this instance. In fact this way we avoid getting outliers "
   ]
  },
  {
   "cell_type": "code",
   "execution_count": null,
   "metadata": {},
   "outputs": [],
   "source": [
    "disk.custom_distribution_cyl(N, 1, u_r, u_theta, u_z)"
   ]
  },
  {
   "cell_type": "code",
   "execution_count": null,
   "metadata": {},
   "outputs": [],
   "source": [
    "np.max(disk.r)"
   ]
  },
  {
   "cell_type": "code",
   "execution_count": null,
   "metadata": {
    "metadata": {}
   },
   "outputs": [],
   "source": [
    "fig = plt.figure()\n",
    "ax = fig.add_subplot(projection='3d')\n",
    "disk.positions_3d(ax, l=40, s=.1, a=.3)\n",
    "\n",
    "\n",
    "plt.show()"
   ]
  },
  {
   "cell_type": "code",
   "execution_count": null,
   "metadata": {},
   "outputs": [],
   "source": [
    "disk.show_dist_cyl(b=30)"
   ]
  },
  {
   "cell_type": "code",
   "execution_count": null,
   "metadata": {
    "scrolled": true
   },
   "outputs": [],
   "source": [
    "_, axs = disk.projections(l=100, s=.5, a=.3)\n",
    "\n",
    "plt.show()"
   ]
  },
  {
   "cell_type": "code",
   "execution_count": null,
   "metadata": {},
   "outputs": [],
   "source": [
    "# we are still in internal units\n",
    "G = 1\n",
    "M = np.sum(disk.m)\n",
    "R = disk.r\n",
    "\n",
    "Psi = G * M /(R**2 + a**2)**(1/2)"
   ]
  },
  {
   "cell_type": "markdown",
   "metadata": {},
   "source": [
    "---"
   ]
  },
  {
   "cell_type": "code",
   "execution_count": null,
   "metadata": {
    "metadata": {}
   },
   "outputs": [],
   "source": [
    "home = '../../'\n",
    "input = home + f'data/inputs/kuzmin{N}.txt' \n",
    "output = home + f'data/outputs/kuzmin{N}.txt'\n",
    "log = f'../../data/outputs/kuzmin{N}_log.txt'"
   ]
  },
  {
   "cell_type": "code",
   "execution_count": null,
   "metadata": {
    "metadata": {}
   },
   "outputs": [],
   "source": [
    "disk.initialize_velocities()"
   ]
  },
  {
   "cell_type": "code",
   "execution_count": null,
   "metadata": {
    "metadata": {}
   },
   "outputs": [],
   "source": [
    "open(input, 'w').close()  #clearing input file\n",
    "open(output, 'w').close() #clearing output file\n",
    "open(log, 'w').close()    #clearing log file\n",
    "disk.write_tree(input)"
   ]
  },
  {
   "cell_type": "markdown",
   "metadata": {},
   "source": [
    "Now we calculate the softening and accuracy parameters, we need to use the volume of the disk"
   ]
  },
  {
   "cell_type": "code",
   "execution_count": null,
   "metadata": {
    "metadata": {}
   },
   "outputs": [],
   "source": [
    "V = 1*np.pi*a**2 # i take a cylinder of height 1 and area=disk\n",
    "epsilon = 1/100 * (V/int(float(N)))**(1/3)"
   ]
  },
  {
   "cell_type": "code",
   "execution_count": null,
   "metadata": {
    "metadata": {}
   },
   "outputs": [],
   "source": [
    "T_sim = 400\n",
    "dt = 1\n",
    "theta = 0.1"
   ]
  },
  {
   "cell_type": "code",
   "execution_count": null,
   "metadata": {
    "metadata": {}
   },
   "outputs": [],
   "source": [
    "print(f'T_sim = {T_sim:.1f} \\t epsilon = {epsilon:.2e} \\t dt = {dt:.2f}')"
   ]
  },
  {
   "cell_type": "code",
   "execution_count": 17,
   "metadata": {
    "metadata": {}
   },
   "outputs": [
    {
     "data": {
      "text/plain": [
       "0"
      ]
     },
     "execution_count": 17,
     "metadata": {},
     "output_type": "execute_result"
    }
   ],
   "source": [
    "os.system(home + f'treecode/tree/treecode in={input} out={output} eps={epsilon} tstop={T_sim} dtout={dt}>{log}')"
   ]
  },
  {
   "cell_type": "code",
   "execution_count": 18,
   "metadata": {
    "metadata": {}
   },
   "outputs": [
    {
     "name": "stdout",
     "output_type": "stream",
     "text": [
      "Loaded 1e+04 particles\n"
     ]
    }
   ],
   "source": [
    "import gdsam\n",
    "\n",
    "pl = gdsam.plotter()\n",
    "pl.get_data_tree(output)"
   ]
  },
  {
   "cell_type": "code",
   "execution_count": 19,
   "metadata": {
    "metadata": {}
   },
   "outputs": [
    {
     "data": {
      "image/png": "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",
      "text/plain": [
       "<Figure size 1100x1100 with 3 Axes>"
      ]
     },
     "metadata": {
      "image/png": {
       "height": 365,
       "width": 1115
      }
     },
     "output_type": "display_data"
    }
   ],
   "source": [
    "i = 250\n",
    "pl.projections_heatmap(num=i, x_min =-20, y_min =-20, z_min =-20, l=40);"
   ]
  },
  {
   "cell_type": "code",
   "execution_count": null,
<<<<<<< HEAD
   "metadata": {},
=======
   "metadata": {
    "scrolled": true
   },
>>>>>>> 2d87212 (c)
   "outputs": [],
   "source": [
    "pl.preview_animation(l=40)"
   ]
  }
 ],
 "metadata": {
  "kernelspec": {
   "display_name": "Python 3 (ipykernel)",
   "language": "python",
   "name": "python3"
  },
  "language_info": {
   "codemirror_mode": {
    "name": "ipython",
    "version": 3
   },
   "file_extension": ".py",
   "mimetype": "text/x-python",
   "name": "python",
   "nbconvert_exporter": "python",
   "pygments_lexer": "ipython3",
   "version": "3.11.5"
  }
 },
 "nbformat": 4,
 "nbformat_minor": 2
}
