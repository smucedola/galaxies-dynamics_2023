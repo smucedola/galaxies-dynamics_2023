{
 "cells": [
  {
   "cell_type": "markdown",
   "metadata": {},
   "source": [
    "## Miyamoto Nagai disk\n",
    "The Miyamoto Nagai potential is\n",
    "\n",
    "$$\n",
    "    \\Phi(r,z) = -\\dfrac{GM}{\\sqrt{r^2 + \\left(\\sqrt{z^2+b^2}+a\\right)^2}}\n",
    "$$\n",
    "\n",
    "And we can plot it in terms of $z/a$ and $R/a$"
   ]
  },
  {
   "cell_type": "code",
   "execution_count": 1,
   "metadata": {},
   "outputs": [],
   "source": [
    "import numpy as np\n",
    "import os\n",
    "import matplotlib.pyplot as plt\n",
    "from matplotlib import animation\n",
    "from tqdm.notebook import tqdm\n",
    "from IPython.display import HTML\n",
    "\n",
    "plt.style.use('../../sim.mplstyle')\n",
    "%config InlineBackend.figure_format = 'retina'"
   ]
  },
  {
   "cell_type": "code",
   "execution_count": 2,
   "metadata": {},
   "outputs": [],
   "source": [
    "def phi(r,z,a,b):\n",
    "    return -1/(np.sqrt(r**2 + (np.sqrt(z**2+b**2) + a)**2))"
   ]
  },
  {
   "cell_type": "markdown",
   "metadata": {},
   "source": [
    "$b/a \\gg 1$ gives a spherical distribution, $b/a \\ll 1$ gives a flattened distribution"
   ]
  },
  {
   "cell_type": "code",
   "execution_count": 3,
   "metadata": {},
   "outputs": [],
   "source": [
    "r = np.linspace(-5, 5, 100)\n",
    "z = np.linspace(-5, 5, 100)\n",
    "R, Z = np.meshgrid(r, z)\n",
    "\n",
    "#constants\n",
    "M = 1\n",
    "G = 1\n",
    "ratio = 0.2\n",
    "a = 1.5\n",
    "b = ratio*a\n",
    "\n",
    "# Compute phi over the grid\n",
    "Phi = phi(R/a, Z/a, a, b)\n",
    "\n",
    "# Create the contour plot\n",
    "plt.contour(R/a, Z/a, Phi, 10)\n",
    "plt.xlabel(r'$R/a$')\n",
    "plt.ylabel(r'$z/a$')\n",
    "plt.colorbar(label=r'$\\Phi$')\n",
    "plt.title(r'Contour plot of $\\Phi(r, z)$')\n",
    "plt.show()"
   ]
  },
  {
   "cell_type": "markdown",
   "metadata": {},
   "source": [
    "Using the Poisson equation yields\n",
    "\n",
    "$$\n",
    "     \\rho(R, z) = \\left( \\frac{b^2 M_\\mathrm{tot}}{4 \\pi} \\right) \\frac{a R^2 + \\left( 3 \\sqrt{z^2 + b^2} + a \\right) \\left( \\sqrt{z^2 + b^2} + a \\right)^2}{\\left( R^2 + \\left( \\sqrt{z^2 + b^2} + a \\right)^2 \\right)^{5/2} \\left( z^2 + b^2 \\right)^{3/2}}.\n",
    "$$\n",
    "\n",
    "<br>"
   ]
  },
  {
   "cell_type": "code",
   "execution_count": 4,
   "metadata": {
    "scrolled": false
   },
   "outputs": [],
   "source": [
    "# Define the density function\n",
    "def density(R, z):\n",
    "    term1 = (b**2 * M) / (4 * np.pi)\n",
    "    term2 = a * R**2 + (3 * np.sqrt(z**2 + b**2) + a) * (np.sqrt(z**2 + b**2) + a)**2\n",
    "    term3 = (R**2 + (np.sqrt(z**2 + b**2) + a)**2)**(5/2)\n",
    "    term4 = (z**2 + b**2)**(3/2)\n",
    "    return term1 * term2 / (term3 * term4)\n",
    "\n",
    "\n",
    "# Create the contour plot\n",
    "plt.contour(R/a, Z/a, density(R/a,Z/a), 10)\n",
    "plt.xlabel(r'$R/a$')\n",
    "plt.ylabel(r'$z/a$')\n",
    "plt.colorbar(label=r'$\\rho$')\n",
    "plt.title(r'Contour plot of $\\rho(r, z)$')\n",
    "plt.show()"
   ]
  },
  {
   "cell_type": "markdown",
   "metadata": {},
   "source": [
    "To initialize the Miyamoto-Nagai disk, we need to set the correct distributions for the particles' Cartesian coordinates. We will first find the distributions in cylindrical coordinates and then project them onto the Cartesian plane.\n",
    "\n",
    "#### Mass Distribution\n",
    "\n",
    "The mass enclosed within a radius \\( r \\) in cylindrical coordinates is:\n",
    "\n",
    "$$\n",
    "M(r) = \\int_0^r \\int_{-\\infty}^{\\infty} \\int_0^{2\\pi} \\rho(R, z) R \\, d\\phi \\, dz \\, dR\n",
    "$$\n",
    "\n",
    "Where we also used that $dV = Rd\\phi drdz$.\n",
    "\n",
    "For our Monte Carlo approach we need to deal with probability distributions directly.\n",
    "\n",
    "#### Radial Distribution\n",
    "\n",
    "The cumulative distribution function (CDF) for the radial distance $R$ is:\n",
    "\n",
    "$$\n",
    "P(R) = \\frac{M(R)}{M_{\\text{total}}} = \\frac{1}{M_{\\text{total}}} \\int_0^R \\int_{-\\infty}^{\\infty} \\int_0^{2\\pi} \\rho(R', z) R' \\, d\\phi \\, dz \\, dR'\n",
    "$$\n",
    "\n",
    "<br>\n",
    "\n",
    "The probability density function (PDF) for the radial distance is, for the fundamental theorem of algebra:\n",
    "\n",
    "<br>\n",
    "\n",
    "\n",
    "$$\n",
    "p(R) = \\frac{dP(R)}{dR} = \\frac{1}{M_{\\text{total}}} \\int_{-\\infty}^{\\infty} \\int_0^{2\\pi} \\rho(R, z) R \\, d\\phi \\, dz\n",
    "$$\n",
    "\n",
    "#### Azimuthal Distribution\n",
    "\n",
    "Since the Miyamoto-Nagai potential is axisymmetric (independent of $\\phi$), the azimuthal angle $\\phi$ is uniformly distributed:\n",
    "\n",
    "$$\n",
    "P(\\phi) = \\frac{\\phi}{2\\pi}, \\quad p(\\phi) = \\frac{1}{2\\pi}\n",
    "$$\n",
    "\n",
    "#### Vertical Distribution\n",
    "\n",
    "The distribution of $ z $ (or equivalently the polar angle $ \\theta $) needs to account for the density profile. In cylindrical coordinates, $ z = r \\cos \\theta $.\n",
    "\n",
    "The CDF for $ z $ is:\n",
    "\n",
    "$$\n",
    "P(z) = \\frac{1}{M_{\\text{total}}} \\int_{-\\infty}^z \\int_0^\\infty \\int_0^{2\\pi} \\rho(R, z') R \\, d\\phi \\, dR \\, dz'\n",
    "$$\n",
    "\n",
    "The PDF for $ z $ is:\n",
    "\n",
    "$$\n",
    "p(z) = \\frac{dP(z)}{dz} = \\frac{1}{M_{\\text{total}}} \\int_0^\\infty \\int_0^{2\\pi} \\rho(R, z) R \\, d\\phi \\, dR\n",
    "$$\n",
    "\n",
    "### Summary\n",
    "\n",
    "To initialize the Miyamoto-Nagai disk, we follow these steps:\n",
    "\n",
    "- Compute the radial CDF $ P(R) $ and PDF $ p(R) $.\n",
    "\n",
    "- Use the uniform distribution $ p(\\phi) $.\n",
    "\n",
    "- Compute the vertical CDF $ P(z) $ and PDF $ p(z) $.\n",
    "\n",
    "Using these distributions, we can sample the cylindrical coordinates $ (R, \\phi, z) $ and then convert them to Cartesian coordinates for our simulations.\n",
    "\n",
    "### Implementation\n",
    "Integrating the density analytically is impossible, we would need to use numerical integration and then use interpolation to find the inverse of the CDF. Another possibility is instead to evaluate the pdf only and then use rejection method."
   ]
  },
  {
   "cell_type": "code",
   "execution_count": 5,
   "metadata": {},
   "outputs": [],
   "source": [
    "import sys\n",
    "sys.path.insert(1, '../')\n",
    "from gdsam import initial_data"
   ]
  },
  {
   "cell_type": "code",
   "execution_count": 6,
   "metadata": {},
   "outputs": [],
   "source": [
    "disk = initial_data()\n",
    "N = int(5e3)"
   ]
  },
  {
   "cell_type": "markdown",
   "metadata": {},
   "source": [
    "### Rejection sampling"
   ]
  },
  {
   "cell_type": "code",
   "execution_count": 7,
   "metadata": {},
   "outputs": [],
   "source": [
    "def pdf(r,z):\n",
    "    return 1/M*density(r,z)\n",
    "\n",
    "r_range = np.linspace(0,1,100)\n",
    "z_range = np.linspace(-1,1,100)\n",
    "\n",
    "R,Z = np.meshgrid(r_range, z_range)\n",
    "\n",
    "g = np.max(pdf(R,Z))\n",
    "\n",
    "print(f'the maximum of the distribution is {g:.3f}')"
   ]
  },
  {
   "cell_type": "code",
   "execution_count": 8,
   "metadata": {},
   "outputs": [],
   "source": [
    "fig, ax = plt.subplots(subplot_kw={\"projection\": \"3d\", \"aspect\":\"equal\"})\n",
    "\n",
    "ax.plot_surface(R,Z, pdf(R,Z), alpha=0.3);"
   ]
  },
  {
   "cell_type": "markdown",
   "metadata": {},
   "source": [
    "Since the probability is almost 0 outside the range shown we can perform a rejection sampling that's limited in range."
   ]
  },
  {
   "cell_type": "code",
   "execution_count": 9,
   "metadata": {},
   "outputs": [],
   "source": [
    "def rejection_sampling(f, r_max, z_max, num_samples):\n",
    "    r_samples, z_samples = ([],[])\n",
    "    \n",
    "    r_test = np.linspace(.01, r_max, int(1e6))\n",
    "    z_test = np.linspace(-z_max, z_max, int(1e6))\n",
    "    y = f(r_test, z_test)\n",
    "    g = np.max(y)\n",
    "    \n",
    "    with tqdm(total=num_samples, desc='Sampling') as pbar:\n",
    "        while len(r_samples) < num_samples:\n",
    "            \n",
    "            r_i = np.random.uniform(0, R_max)\n",
    "            z_i = np.random.uniform(-z_max, z_max)\n",
    "            \n",
    "            u = np.random.uniform(0, 1)\n",
    "            \n",
    "            # Accept or reject the candidate\n",
    "            if u < f(r_i, z_i) / g: \n",
    "                r_samples.append(r_i)\n",
    "                z_samples.append(z_i)\n",
    "                pbar.update(1)\n",
    "                \n",
    "    return np.array(r_samples), np.array(z_samples)"
   ]
  },
  {
   "cell_type": "code",
   "execution_count": 10,
   "metadata": {
    "scrolled": true
   },
   "outputs": [],
   "source": [
    "R_max = 100\n",
    "z_max = 10\n",
    "R_samples, z_samples = rejection_sampling(pdf, R_max, z_max, N)"
   ]
  },
  {
   "cell_type": "code",
   "execution_count": 11,
   "metadata": {},
   "outputs": [],
   "source": [
    "disk.N = N\n",
    "disk.m = np.full(N, M / N)\n",
    "disk.r = R_samples\n",
    "disk.z = z_samples\n",
    "disk.theta = 2*np.pi*np.random.uniform(0,1,N)\n",
    "\n",
    "disk.x = disk.r * np.cos(disk.theta)\n",
    "disk.y = disk.r * np.sin(disk.theta)\n",
    "disk.z = disk.z"
   ]
  },
  {
   "cell_type": "code",
   "execution_count": 12,
   "metadata": {},
   "outputs": [],
   "source": [
    "disk.show_dist_cyl();"
   ]
  },
  {
   "cell_type": "code",
   "execution_count": 13,
   "metadata": {
    "metadata": {}
   },
   "outputs": [],
   "source": [
    "fig = plt.figure()\n",
    "ax = fig.add_subplot(projection='3d')\n",
    "disk.positions_3d(ax, l=70, s=.05, a=1)\n",
    "plt.show()"
   ]
  },
  {
   "cell_type": "code",
   "execution_count": 14,
   "metadata": {},
   "outputs": [],
   "source": [
    "disk.projections(l=80, s=.5, a=1);"
   ]
  },
  {
   "cell_type": "markdown",
   "metadata": {},
   "source": [
    "## Setting the velocities"
   ]
  },
  {
   "cell_type": "markdown",
   "metadata": {},
   "source": [
    "We will use the Toomre stability criterion and choose to initialize a distribution with $Q = 5$. This choice is completely arbitrary"
   ]
  },
  {
   "cell_type": "markdown",
   "metadata": {},
   "source": [
    "To have circular orbits we need\n",
    "\n",
    "$$\n",
    "            F_\\mathrm{cp} = F_\\mathrm{G} \\quad \\longrightarrow \\quad \\omega^2R = \\dfrac{GM(R)}{R^2} \\quad \\longrightarrow \\quad \\dot{\\theta}^2 = \\frac{GM(R)}{R^3}\n",
    "$$"
   ]
  },
  {
   "cell_type": "markdown",
   "metadata": {},
   "source": [
    "For the mass we need to integrate the density, and since the integration really hard we will instead calculate the mass within each radius of the disk and then interpolate the function"
   ]
  },
  {
   "cell_type": "code",
   "execution_count": 15,
   "metadata": {},
   "outputs": [],
   "source": [
    "from scipy.interpolate import interp1d\n",
    "\n",
    "R = np.sort(disk.r) #the radius we sampled from the distribution\n",
    "\n",
    "scan = np.linspace(min(R), 2*max(R), int(1e4))\n",
    "M_inside = np.array([np.sum(disk.m[disk.r<r_i]) for r_i in scan])\n",
    "theta_inside = np.sqrt(G*M_inside/scan**3) #angular velocity\n",
    "\n",
    "M_r = interp1d(scan, M_inside)\n",
    "theta_dot = interp1d(scan, theta_inside)\n",
    "\n",
    "\n",
    "fig, axs = plt.subplots(1,2)\n",
    "\n",
    "axs[0].plot(R, M_r(R))\n",
    "axs[0].axvline(b,-1,2, c='r', ls='--', label= fr'$b={b:.2f}$')\n",
    "axs[0].set(title=fr'$M(R)$ profile', xscale='log')\n",
    "axs[1].plot(R, theta_dot(R))\n",
    "axs[1].set(title=fr'$\\dot \\theta(R)$ profile', xscale='log')\n",
    "\n",
    "axs[0].legend()\n",
    "[ax.grid() for ax in axs]\n",
    "\n",
    "plt.show()"
   ]
  },
  {
   "cell_type": "markdown",
   "metadata": {},
   "source": [
    "The Toomre parameter is defined as \n",
    "$$\n",
    "Q=\\frac{\\sigma k}{G\\Sigma}\n",
    "$$\n",
    "We can define $k$, the epicyclic frequency, as \n",
    "\n",
    "$$\n",
    "k^2=\\frac{\\partial\\Phi_{eff}}{\\partial R^2}\\Big|_{0,0} = \\frac{\\partial}{\\partial R}\\left(\\frac{\\partial}{\\partial R}\\left(\\Phi + \\frac{l_z^2}{2R^2}\\right)\\right)\\Big|_{0,0} = 4\\pi G \\Sigma - \\frac{\\partial}{\\partial R}\\left(\\frac{l_z^2}{R^3}\\right) = 4\\pi G \\Sigma + \\frac{3 l_z^2}{R^4}\n",
    "$$\n",
    "<br>\n",
    "Remember, for a general potential you must derive the epicyclic and angular frequency first, then the orbital frequency is a function of them.\n",
    "\n",
    "In this case we can substitute $l_z$, angular momentum per unit mass, as\n",
    "\n",
    "$$\n",
    "    l_z = \\omega r^2 = \\dot \\theta R^2\n",
    "$$\n",
    "\n",
    "Therefore we get\n",
    "$$k^2 = 4\\pi G \\Sigma + 3 \\dot{\\theta}^2$$\n",
    "\n",
    "We can find sigma by simply putting $\\rho(R, z=0)$\n",
    "\n",
    "$$ \n",
    "\\Sigma(R) = \\rho(R, z=0) = \\left( \\frac{M_\\mathrm{tot}}{4 \\pi b} \\right) \\frac{a R^2 + \\left( 3b + a \\right) \\left(b + a \\right)^2}{\\left( R^2 + \\left( b + a \\right)^2 \\right)^{5/2}}\n",
    "$$"
   ]
  },
  {
   "cell_type": "code",
   "execution_count": 16,
   "metadata": {},
   "outputs": [],
   "source": [
    "term1 = (M/(4*np.pi*b))\n",
    "term2 = (a*R**2 + (3*b+a)*(b+a)**2)\n",
    "term3 = (R**2+(b+a)**2)**(5/2)\n",
    "\n",
    "sigma = term1*term2/term3\n",
    "k = np.sqrt(4*np.pi*sigma + 3*theta_dot(R)**2)\n",
    "\n",
    "fig, axs = plt.subplots(1,2)\n",
    "\n",
    "axs[0].plot(R, sigma)\n",
    "axs[0].set(title=fr'$\\Sigma(R)$ profile', xscale='log')\n",
    "axs[1].plot(R, k)\n",
    "axs[1].set(title=fr'$k(R)$ profile', xscale='log')\n",
    "\n",
    "[ax.grid() for ax in axs]\n",
    "\n",
    "plt.show()"
   ]
  },
  {
   "cell_type": "markdown",
   "metadata": {},
   "source": [
    "Now we have an expression for $k$ and $\\Sigma$. We can vary the Toomre parameter in a descending manner, that way we will have instability inside and stability outside, or the opposite. We can emply different approaches"
   ]
  },
  {
   "cell_type": "code",
   "execution_count": 17,
   "metadata": {
    "scrolled": false
   },
   "outputs": [],
   "source": [
    "Q = np.full(N, 5)"
   ]
  },
  {
   "cell_type": "markdown",
   "metadata": {},
   "source": [
    "Let's now compute $\\sigma$ inverting the relation from the Toomre parameter definition\n",
    "\n",
    "$$\n",
    "    \\sigma = \\dfrac{G\\ \\Sigma(R)}{k}\\ Q\n",
    "$$"
   ]
  },
  {
   "cell_type": "code",
   "execution_count": 18,
   "metadata": {
    "scrolled": true
   },
   "outputs": [],
   "source": [
    "v_disp = (G*sigma/k)*Q #velocity dispersion a.k.a sigma\n",
    "print(v_disp)"
   ]
  },
  {
   "cell_type": "markdown",
   "metadata": {},
   "source": [
    "We can use the dispersion as the standard deviation of a gaussian distribution centered around the circular velocities at every radius. The expression for those velocities in the cartesian plane is\n",
    "\n",
    "$$\n",
    "\\dot{x}= \\dfrac{d}{dt}\\left(R \\cos \\theta \\right) = \\dot{R}\\ \\cos \\theta - R \\sin \\theta\\dot{\\theta} = - R \\sin \\theta\\dot{\\theta}\n",
    "$$ \n",
    "\n",
    "$$\n",
    "\\dot{y}=\\dfrac{d}{dt}\\left(R \\sin \\theta \\right) = \\dot{R}\\sin \\theta + R \\cos \\theta\\dot{\\theta} = R \\cos \\theta\\dot{\\theta}\n",
    "$$\n",
    "\n",
    "$$\n",
    "\\dot{z}=\\dfrac{dz}{dt} = 0 \n",
    "$$\n",
    "<br>\n",
    "\n",
    "where $\\dot R = 0$  since circular orbits and $\\dot{z} = 0 $ due to $z=0$ for the Kuzmin distribution."
   ]
  },
  {
   "cell_type": "code",
   "execution_count": 19,
   "metadata": {},
   "outputs": [],
   "source": [
    "x_dot = -R*np.sin(disk.theta)*theta_dot(R)\n",
    "y_dot = +R*np.cos(disk.theta)*theta_dot(R)"
   ]
  },
  {
   "cell_type": "code",
   "execution_count": 20,
   "metadata": {},
   "outputs": [],
   "source": [
    "#each v_x is sampled from a different gaussian centered in x_dot[i] with dispersion v_disp[i]\n",
    "v_x     = np.random.normal(x_dot, v_disp)\n",
    "v_y     = np.random.normal(y_dot, v_disp)\n",
    "v_z     = np.zeros(N)"
   ]
  },
  {
   "cell_type": "code",
   "execution_count": 21,
   "metadata": {},
   "outputs": [],
   "source": [
    "i = np.random.randint(0,N)\n",
    "print(f'Percentual dispersion for the {i}th particle {abs(v_disp[i]/x_dot[i]*100):.2f} %')"
   ]
  },
  {
   "cell_type": "code",
   "execution_count": 22,
   "metadata": {},
   "outputs": [],
   "source": [
    "import seaborn as sns\n",
    "\n",
    "fig, axs = plt.subplots(2, 2, tight_layout=True, sharex=True, sharey=True)\n",
    "\n",
    "sns.kdeplot(x_dot, ax=axs[0, 0], fill=True, alpha=0.2, bw_adjust=0.25)\n",
    "axs[0, 0].set(title=fr'$\\dot x$ distribution', xlabel=r'$\\dot x$', ylabel=r'$N(\\dot x)$')\n",
    "\n",
    "sns.kdeplot(y_dot, ax=axs[0, 1], fill=True, alpha=0.2, bw_adjust=0.25)\n",
    "axs[0, 1].set(title=fr'$\\dot y$ distribution', xlabel=r'$\\dot y$', ylabel=r'$N(\\dot y)$')\n",
    "\n",
    "sns.kdeplot(v_x, ax=axs[1, 0], fill=True, alpha=0.2, bw_adjust=0.25)\n",
    "axs[1, 0].set(title=fr'$v_x$ distribution', xlabel=r'$v_x$', ylabel=r'$N(v_x)$')\n",
    "\n",
    "sns.kdeplot(v_y, ax=axs[1, 1], fill=True, alpha=0.2, bw_adjust=0.25)\n",
    "axs[1, 1].set(title=fr'$v_y$ distribution', xlabel=r'$v_y$', ylabel=r'$N(v_y)$');"
   ]
  },
  {
   "cell_type": "code",
   "execution_count": 23,
   "metadata": {},
   "outputs": [],
   "source": [
    "disk.set_velocities(v_x,v_y,v_z)"
   ]
  },
  {
   "cell_type": "markdown",
   "metadata": {},
   "source": [
    "---"
   ]
  },
  {
   "cell_type": "code",
   "execution_count": 24,
   "metadata": {
    "metadata": {}
   },
   "outputs": [],
   "source": [
    "home = '../../'\n",
    "input = home + f'data/inputs/MN-disk{N}.txt' \n",
    "output = home + f'data/outputs/MN-disk{N}.txt'\n",
    "log = f'../../data/outputs/MN-disk{N}_log.txt'"
   ]
  },
  {
   "cell_type": "code",
   "execution_count": 25,
   "metadata": {
    "metadata": {}
   },
   "outputs": [],
   "source": [
    "open(output, 'w').close() #clearing output file\n",
    "disk.write_tree(input)"
   ]
  },
  {
   "cell_type": "markdown",
   "metadata": {},
   "source": [
    "Now we calculate the softening and accuracy parameters. The softening must be calculated for the volume of the disk. We know the density is the mass per unit volume, so the volume will be the given by\n",
    "\n",
    "$$\n",
    "    V = \\dfrac{M_\\mathrm{tot}}{\\rho_\\mathrm{tot}} = \\dfrac{1}{\\mathrm{pdf}(R,Z)}\n",
    "$$\n",
    "\n",
    "where $R,Z$ represent the maximum radius and height of the distribution"
   ]
  },
  {
   "cell_type": "code",
   "execution_count": 26,
   "metadata": {},
   "outputs": [],
   "source": [
    "R = np.max(disk.r)\n",
    "Z = np.max(disk.z)\n",
    "\n",
    "V = 1/pdf(R,Z)\n",
    "print(f'{V:.2e}')"
   ]
  },
  {
   "cell_type": "code",
   "execution_count": 27,
   "metadata": {
    "metadata": {}
   },
   "outputs": [],
   "source": [
    "epsilon = 1/100 * (V/int(float(N)))**(1/3)\n",
    "print(f'{epsilon:.3f}')"
   ]
  },
  {
   "cell_type": "code",
   "execution_count": 28,
   "metadata": {
    "metadata": {}
   },
   "outputs": [],
   "source": [
    "T_sim = 400\n",
    "dt = 0.5\n",
    "theta = 0.1"
   ]
  },
  {
   "cell_type": "code",
   "execution_count": 29,
   "metadata": {
    "metadata": {}
   },
   "outputs": [],
   "source": [
    "print(f'T_sim = {T_sim:.1f} \\t epsilon = {epsilon:.2e} \\t dt = {dt:.2f}')"
   ]
  },
  {
   "cell_type": "code",
   "execution_count": 30,
   "metadata": {
    "metadata": {}
   },
   "outputs": [],
   "source": [
    "os.system(home + f'treecode/tree/treecode in={input} out={output} eps={epsilon} tstop={T_sim} dtout={dt}>{log}')"
   ]
  },
  {
   "cell_type": "code",
   "execution_count": 31,
   "metadata": {
    "metadata": {}
   },
   "outputs": [],
   "source": [
    "import gdsam\n",
    "\n",
    "pl = gdsam.plotter()\n",
    "pl.get_data_tree(output)"
   ]
  },
  {
   "cell_type": "code",
   "execution_count": 32,
   "metadata": {},
   "outputs": [],
   "source": [
    "fig, axs = plt.subplots(1,3, figsize=(11,11))\n",
    "ani = pl.animate_projections(fig, axs, b=0, l=60, s=.5, a=1, frame_skip=10)\n",
    "\n",
    "ani.save(f'../media/disk{N}.mp4', dpi=300, fps=30)"
   ]
  },
  {
   "cell_type": "code",
   "execution_count": 33,
   "metadata": {
    "metadata": {}
   },
   "outputs": [],
   "source": [
    "fig = plt.figure()\n",
    "ax = fig.add_subplot(projection='3d')\n",
    "i = 399\n",
    "\n",
    "x_cm, y_cm ,z_cm = pl.x_cm, pl.y_cm, pl.z_cm\n",
    "pl.positions_3d(ax, num=i, l=60, b=0, a=.1, s=.5)\n",
    "ax.scatter(x_cm[i], y_cm[i], z_cm[i], s=20, c='r');"
   ]
  },
  {
   "cell_type": "code",
   "execution_count": 34,
   "metadata": {
    "metadata": {}
   },
   "outputs": [],
   "source": [
    "pl.projections(num=i, s=.5, a=1, b=0, l=80);"
   ]
  },
  {
   "cell_type": "code",
   "execution_count": 35,
   "metadata": {
    "metadata": {},
    "scrolled": false
   },
   "outputs": [],
   "source": [
    "fig = plt.figure()\n",
    "ax = fig.add_subplot(projection='3d')\n",
    "ani = pl.animate_3d(fig, ax, b=0, l=60, s=.5, a=.1, frame_skip=4)\n",
    "\n",
    "ani.save(f'../media/disk{N}.mp4', dpi=300, fps=30)"
   ]
  },
  {
   "cell_type": "code",
   "execution_count": 36,
   "metadata": {
    "metadata": {}
   },
   "outputs": [],
   "source": [
    "from IPython.display import Video\n",
    "\n",
    "Video(filename=f'../media/disk{N}.mp4', width=600)"
   ]
  },
  {
   "cell_type": "code",
   "execution_count": null,
   "metadata": {},
   "outputs": [],
   "source": []
  }
 ],
 "metadata": {
  "kernelspec": {
   "display_name": "Python 3 (ipykernel)",
   "language": "python",
   "name": "python3"
  },
  "language_info": {
   "codemirror_mode": {
    "name": "ipython",
    "version": 3
   },
   "file_extension": ".py",
   "mimetype": "text/x-python",
   "name": "python",
   "nbconvert_exporter": "python",
   "pygments_lexer": "ipython3",
   "version": "3.11.5"
  }
 },
 "nbformat": 4,
 "nbformat_minor": 2
}
